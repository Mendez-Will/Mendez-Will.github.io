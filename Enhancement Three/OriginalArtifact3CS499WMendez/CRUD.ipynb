{
 "cells": [
  {
   "cell_type": "code",
   "execution_count": 3,
   "id": "231142a1",
   "metadata": {
    "scrolled": false
   },
   "outputs": [
    {
     "name": "stdout",
     "output_type": "stream",
     "text": [
      "Validation successful: Inserted document found in the database\n",
      "Dog documents: [{'_id': ObjectId('65bb9528323152e77c2bccc5'), 'name': 'Max', 'species': 'Dog'}, {'_id': ObjectId('65bb9824323152e77c2bccc7'), 'name': 'Max', 'species': 'Dog'}, {'_id': ObjectId('65bb98f5323152e77c2bccc9'), 'name': 'Max', 'species': 'Dog'}, {'_id': ObjectId('65bb9a06323152e77c2bcccb'), 'name': 'Ruby', 'species': 'Dog'}, {'_id': ObjectId('65bb9a3d323152e77c2bcccd'), 'name': 'Ruby', 'species': 'Dog'}, {'_id': ObjectId('65bb9bfc323152e77c2bccd3'), 'name': 'Randy', 'species': 'Dog'}, {'_id': ObjectId('65bb9c35323152e77c2bccd5'), 'name': 'Randy', 'species': 'Dog'}, {'_id': ObjectId('65c83d34f6893ce010b7fd48'), 'name': 'Beans', 'species': 'Dog'}]\n",
      "Number of documents updated: 13 U successful\n",
      "Number of documents deleted: 54 D successful\n"
     ]
    }
   ],
   "source": [
    "from animalShelter import AnimalShelter\n",
    "from pymongo import MongoClient\n",
    "from bson.objectid import ObjectId\n",
    "    \n",
    "shelter = AnimalShelter()\n",
    "\n",
    "data_to_insert = {\"name\": \"Beans\", \"species\": \"Dog\"}\n",
    "\n",
    "# Call the create method to insert the data into the database\n",
    "success = shelter.create(data_to_insert)\n",
    "\n",
    "# Define a query to retrieve documents from the database\n",
    "query_criteria = {\"species\": \"Dog\"}\n",
    "\n",
    "# Call the read method to retrieve documents based on the query\n",
    "dog_documents = shelter.read(query_criteria)\n",
    "if data_to_insert in dog_documents:\n",
    "    print(\"Validation successful: Inserted document found in the database\")\n",
    "else:\n",
    "    print(\"Validation failed: Inserted document not found in the database\")\n",
    "print(\"Dog documents:\", dog_documents)\n",
    "\n",
    "\n",
    "# Test the Update Method\n",
    "update_query = {\"name\": \"Ruby\"}  # Query to select documents to update\n",
    "new_data = {\"name\": \"Updated Ruby\", \"age\": \"5\"}  # New data to set\n",
    "num_modified = shelter.update(update_query, new_data)\n",
    "print(\"Number of documents updated:\", num_modified, \"U successful\")\n",
    "\n",
    "# Test the Delete Method\n",
    "delete_query = {\"name\": \"Max\"}  # Query to select documents to delete\n",
    "num_deleted = shelter.delete(delete_query)\n",
    "print(\"Number of documents deleted:\", num_deleted, \"D successful\")"
   ]
  },
  {
   "cell_type": "code",
   "execution_count": null,
   "id": "5ab3087b",
   "metadata": {},
   "outputs": [],
   "source": []
  },
  {
   "cell_type": "code",
   "execution_count": null,
   "id": "0de528d2",
   "metadata": {},
   "outputs": [],
   "source": []
  },
  {
   "cell_type": "code",
   "execution_count": null,
   "id": "1b7074bb",
   "metadata": {},
   "outputs": [],
   "source": []
  },
  {
   "cell_type": "code",
   "execution_count": null,
   "id": "185fe184",
   "metadata": {},
   "outputs": [],
   "source": []
  }
 ],
 "metadata": {
  "kernelspec": {
   "display_name": "Python 3 (ipykernel)",
   "language": "python",
   "name": "python3"
  },
  "language_info": {
   "codemirror_mode": {
    "name": "ipython",
    "version": 3
   },
   "file_extension": ".py",
   "mimetype": "text/x-python",
   "name": "python",
   "nbconvert_exporter": "python",
   "pygments_lexer": "ipython3",
   "version": "3.9.12"
  }
 },
 "nbformat": 4,
 "nbformat_minor": 5
}
